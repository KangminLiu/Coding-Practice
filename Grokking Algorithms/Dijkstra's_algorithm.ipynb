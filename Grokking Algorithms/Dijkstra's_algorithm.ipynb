{
 "cells": [
  {
   "cell_type": "markdown",
   "metadata": {},
   "source": [
    "There are four steps to Dijkstra's algorithm:\n",
    "\n",
    "1. Find the \"cheapest\" node. This is the node you can get to in the least amount of time.\n",
    "\n",
    "2. Update the costs of the neighbors of this node. Check whether there is a cheaper path to the neighbors for this node. If so, update their costs.\n",
    "\n",
    "3. Repeat until you've done this for every node in the graph.\n",
    "\n",
    "4. Calculate the final path."
   ]
  },
  {
   "cell_type": "markdown",
   "metadata": {},
   "source": [
    "### Weights\n",
    "\n",
    "A graph with weights is called a weighted graph. A graph without weights is called an unweighted graph.\n",
    "\n",
    "**To calculate the shortest path in an unweighted graph, use breadth-first search. To calculate the shortest path in a weighted graph, use Dijkstra's algorithm.**\n",
    "\n",
    "**Dijkstra's algorithm only works with directed acyclic graphs, called DAGs for short.**"
   ]
  },
  {
   "cell_type": "markdown",
   "metadata": {},
   "source": [
    "### Negative-weight edges\n",
    "\n",
    "You can't use Dijkstra's algorithm if you have negative-weight edges. You would have to use **Bellman-Ford algorithm**."
   ]
  },
  {
   "cell_type": "code",
   "execution_count": 1,
   "metadata": {},
   "outputs": [],
   "source": [
    "graph = {}\n",
    "graph[\"start\"] = {}  # create a hash table\n",
    "graph[\"start\"][\"a\"] = 6\n",
    "graph[\"start\"][\"b\"] = 2"
   ]
  },
  {
   "cell_type": "code",
   "execution_count": 2,
   "metadata": {},
   "outputs": [
    {
     "name": "stdout",
     "output_type": "stream",
     "text": [
      "dict_keys(['a', 'b'])\n"
     ]
    }
   ],
   "source": [
    "# print all the neighbors for Start\n",
    "print(graph[\"start\"].keys())"
   ]
  },
  {
   "cell_type": "code",
   "execution_count": 3,
   "metadata": {},
   "outputs": [
    {
     "name": "stdout",
     "output_type": "stream",
     "text": [
      "6\n",
      "2\n"
     ]
    }
   ],
   "source": [
    "# There is an edge from Start to A and an edge from Start to B.\n",
    "# Get the weights of these edges\n",
    "print(graph[\"start\"][\"a\"])\n",
    "print(graph[\"start\"][\"b\"])"
   ]
  },
  {
   "cell_type": "code",
   "execution_count": 4,
   "metadata": {},
   "outputs": [],
   "source": [
    "# finish the rest of this graph\n",
    "graph[\"a\"] = {}\n",
    "graph[\"a\"][\"fin\"] = 1\n",
    "\n",
    "graph[\"b\"] = {}\n",
    "graph[\"b\"][\"a\"] = 3\n",
    "graph[\"b\"][\"fin\"] = 5\n",
    "\n",
    "graph[\"fin\"] = {}  # final node has no neighbors"
   ]
  },
  {
   "cell_type": "code",
   "execution_count": 5,
   "metadata": {},
   "outputs": [],
   "source": [
    "# create a hash table to store the costs for each node.\n",
    "# create a cost table\n",
    "infinity = float(\"inf\")\n",
    "costs = {}\n",
    "costs[\"a\"] = 6\n",
    "costs[\"b\"] = 2\n",
    "costs[\"fin\"] = infinity"
   ]
  },
  {
   "cell_type": "code",
   "execution_count": 6,
   "metadata": {},
   "outputs": [],
   "source": [
    "# create a hash table for the parents\n",
    "parents = {}\n",
    "parents[\"a\"] = \"start\"\n",
    "parents[\"b\"] = \"start\"\n",
    "parents[\"fin\"] = None"
   ]
  },
  {
   "cell_type": "code",
   "execution_count": 7,
   "metadata": {},
   "outputs": [],
   "source": [
    "# create a list to store all the nodes that are already processed\n",
    "processed = []"
   ]
  },
  {
   "cell_type": "code",
   "execution_count": null,
   "metadata": {},
   "outputs": [],
   "source": [
    "node = find_lowest_cost_node(costs)  # get the lowest-cost node that have not been processed yet\n",
    "while node is not None: \n",
    "    cost = costs[node]\n",
    "    neighbors = graph[node]\n",
    "    for n in neighbors.keys():  # get through all the neighbors of this node\n",
    "        new_cost = cost + neighbors[n]  \n",
    "        if costs[n] > new_cost:  # If it is cheaper to get to this neighbor by going through this node, \n",
    "            costs[n] = new_cost  # update the cost of this node\n",
    "            parents[n] = node   # this node becomes the new parent for this neighbor\n",
    "    processed.append(node)  # mark the node as processed\n",
    "    node = find_lowest_cost_node(costs)  # find the next node to process, and loop."
   ]
  }
 ],
 "metadata": {
  "kernelspec": {
   "display_name": "Python 3",
   "language": "python",
   "name": "python3"
  },
  "language_info": {
   "codemirror_mode": {
    "name": "ipython",
    "version": 3
   },
   "file_extension": ".py",
   "mimetype": "text/x-python",
   "name": "python",
   "nbconvert_exporter": "python",
   "pygments_lexer": "ipython3",
   "version": "3.6.5"
  }
 },
 "nbformat": 4,
 "nbformat_minor": 2
}
