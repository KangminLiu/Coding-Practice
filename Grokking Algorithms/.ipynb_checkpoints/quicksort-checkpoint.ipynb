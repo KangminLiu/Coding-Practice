{
 "cells": [
  {
   "cell_type": "markdown",
   "metadata": {},
   "source": [
    "** Divide-and-Conquer (D&C)**: a well known **recursive** technique for solving problems. \n",
    "\n",
    "** quicksort ** uses ** divide-and-conquer. **"
   ]
  },
  {
   "cell_type": "markdown",
   "metadata": {},
   "source": [
    "To solve a problem using D&C, there are two steps:  \n",
    "\n",
    "1. Figure out the base case. This should be the simplest possible case.\n",
    "\n",
    "2. Divide or decrease your problem until it becomes the base case."
   ]
  },
  {
   "cell_type": "code",
   "execution_count": 16,
   "metadata": {},
   "outputs": [],
   "source": [
    "## write a sum function using recursion\n",
    "\n",
    "## original sum function\n",
    "def sum(arr):\n",
    "    total = 0\n",
    "    for x in arr:\n",
    "        total += x\n",
    "    return total"
   ]
  },
  {
   "cell_type": "code",
   "execution_count": 17,
   "metadata": {},
   "outputs": [
    {
     "name": "stdout",
     "output_type": "stream",
     "text": [
      "21\n"
     ]
    }
   ],
   "source": [
    "print(sum([1,2,3,4,5,6]))"
   ]
  },
  {
   "cell_type": "code",
   "execution_count": 18,
   "metadata": {},
   "outputs": [],
   "source": [
    "## How would you write the above function using recursion?\n",
    "## step 1: base case, empty and one-element array\n",
    "## step 2: move closer to an empty array with every recursive call\n",
    "\n",
    "def sum_recursive(arr):\n",
    "    if len(arr) == 0:\n",
    "        return 0\n",
    "    return arr[0] + sum_recursive(arr[1:])"
   ]
  },
  {
   "cell_type": "code",
   "execution_count": 19,
   "metadata": {},
   "outputs": [
    {
     "name": "stdout",
     "output_type": "stream",
     "text": [
      "21\n"
     ]
    }
   ],
   "source": [
    "print(sum_recursive([1,2,3,4,5,6]))"
   ]
  },
  {
   "cell_type": "markdown",
   "metadata": {},
   "source": [
    "** Tips **  \n",
    "When you are writing a recursive function involding an array, the base case is often an empty array or an array with one element. If you are stuck, try that first."
   ]
  },
  {
   "cell_type": "markdown",
   "metadata": {},
   "source": [
    "**Functional Programming.**  \n",
    " **Haskell** does not have loops, it has to use recursion to substitute for loops. "
   ]
  },
  {
   "cell_type": "code",
   "execution_count": 20,
   "metadata": {},
   "outputs": [],
   "source": [
    "l = [1,2,3,4,5,6]"
   ]
  },
  {
   "cell_type": "code",
   "execution_count": 21,
   "metadata": {},
   "outputs": [],
   "source": [
    "## write a recursive function to count the number of items in a list\n",
    "\n",
    "def count_num_list(l):\n",
    "    if len(l) == 0:\n",
    "        return 0\n",
    "    return 1 + count_num_list(l[1:])"
   ]
  },
  {
   "cell_type": "code",
   "execution_count": 22,
   "metadata": {},
   "outputs": [
    {
     "name": "stdout",
     "output_type": "stream",
     "text": [
      "6\n"
     ]
    }
   ],
   "source": [
    "print(count_num_list(l))"
   ]
  },
  {
   "cell_type": "code",
   "execution_count": 23,
   "metadata": {},
   "outputs": [],
   "source": [
    "## find the maximum number in a list\n",
    "\n",
    "def maximum(l):\n",
    "    m = 0\n",
    "    for i in l:\n",
    "        if i >= m:\n",
    "            m = i\n",
    "    return m"
   ]
  },
  {
   "cell_type": "code",
   "execution_count": 24,
   "metadata": {},
   "outputs": [
    {
     "name": "stdout",
     "output_type": "stream",
     "text": [
      "6\n"
     ]
    }
   ],
   "source": [
    "print(maximum(l))"
   ]
  },
  {
   "cell_type": "code",
   "execution_count": 25,
   "metadata": {},
   "outputs": [],
   "source": [
    "def max_recursive(l):\n",
    "    if len(l) == 2:\n",
    "        return l[0] if l[0] > l[1] else l[1]\n",
    "    sub_max = max_recursive(l[1:])\n",
    "    return l[0] if l[0] > sub_max else sub_max"
   ]
  },
  {
   "cell_type": "code",
   "execution_count": 26,
   "metadata": {},
   "outputs": [
    {
     "name": "stdout",
     "output_type": "stream",
     "text": [
      "6\n"
     ]
    }
   ],
   "source": [
    "print(max_recursive(l))"
   ]
  },
  {
   "cell_type": "code",
   "execution_count": 27,
   "metadata": {},
   "outputs": [
    {
     "name": "stdout",
     "output_type": "stream",
     "text": [
      "7\n"
     ]
    }
   ],
   "source": [
    "print(max_recursive([1,7,4,6]))"
   ]
  },
  {
   "cell_type": "code",
   "execution_count": 28,
   "metadata": {},
   "outputs": [
    {
     "name": "stdout",
     "output_type": "stream",
     "text": [
      "10\n"
     ]
    }
   ],
   "source": [
    "print(max_recursive([10,7,4,6]))"
   ]
  },
  {
   "cell_type": "markdown",
   "metadata": {},
   "source": [
    "### Quicksort "
   ]
  },
  {
   "cell_type": "code",
   "execution_count": 29,
   "metadata": {},
   "outputs": [],
   "source": [
    "def quicksort(array):\n",
    "    if len(array) < 2:\n",
    "        return array  # base case: arrays with 0 or 1 elements are already sorted\n",
    "    else:\n",
    "        pivot = array[0]\n",
    "        less = [i for i in array[1:] if i <= pivot]  # sub-array of all the elements less than the pivot\n",
    "        greater = [i for i in array[1:] if i > pivot]  # sub-array of all the elements greater than the pivot\n",
    "        return quicksort(less) + [pivot] + quicksort(greater)  # recursive case, DO NOT FORGET the [] around pivot!!!"
   ]
  },
  {
   "cell_type": "code",
   "execution_count": 30,
   "metadata": {},
   "outputs": [
    {
     "name": "stdout",
     "output_type": "stream",
     "text": [
      "[-6, 0, 2, 4, 7, 8, 10]\n"
     ]
    }
   ],
   "source": [
    "print(quicksort([7,2,10,-6,8,4,0]))"
   ]
  },
  {
   "cell_type": "code",
   "execution_count": null,
   "metadata": {},
   "outputs": [],
   "source": []
  }
 ],
 "metadata": {
  "kernelspec": {
   "display_name": "Python 3",
   "language": "python",
   "name": "python3"
  },
  "language_info": {
   "codemirror_mode": {
    "name": "ipython",
    "version": 3
   },
   "file_extension": ".py",
   "mimetype": "text/x-python",
   "name": "python",
   "nbconvert_exporter": "python",
   "pygments_lexer": "ipython3",
   "version": "3.6.5"
  }
 },
 "nbformat": 4,
 "nbformat_minor": 2
}
