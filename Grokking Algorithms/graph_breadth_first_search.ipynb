{
 "cells": [
  {
   "cell_type": "markdown",
   "metadata": {},
   "source": [
    "### Heads up\n",
    "\n",
    "* Breadth first search tells you if there is a path from A to B.  \n",
    "\n",
    "\n",
    "* If there is a path, breadth first search can find you the shorstest path.  \n",
    "\n",
    "\n",
    "* If you have a problem like **\"find the shortest X\"**, try modeling your problem as a graph, and use breadth first search to solve.  \n",
    "\n",
    "\n",
    "* A **directed** graph has arrows, and the relationship follows the direction of the arrow. \n",
    "\n",
    "\n",
    "* **Undirected** graphs do not have arrows, and the relationship goes both ways.\n",
    "\n",
    "\n",
    "* Queues are **FIFO** (First In, First Out). Queues have teo only operations: enqueue (add, push) and dequeue (remove, pop).\n",
    "\n",
    "\n",
    "* Stacks are **LIFO** (Last In, First Out).\n",
    "\n",
    "\n",
    "* Once you check one item, make sure you do not check it again. Otherwise, you might end up in an infinite loop.\n",
    "\n",
    "\n",
    "* You need to check the items in the order they were added to the search list, so the search list needs to be a queue. Otherwise, you will not get the shortest path.\n",
    "\n",
    "\n",
    "* A graph = a bunch of nodes + a bunch of edges\n",
    "\n",
    "\n",
    "* neighbors  \n",
    "A->B->C: B is A's neighbor, but A is not B's neighbor. **directed graph**    \n",
    "D-F: D and F are each other's neighbors. **undirected graph**  "
   ]
  },
  {
   "cell_type": "code",
   "execution_count": 1,
   "metadata": {},
   "outputs": [],
   "source": [
    "## Implementing the graph\n",
    "\n",
    "graph = {}\n",
    "graph[\"you\"] = [\"alice\", \"bob\", \"claire\"]\n",
    "graph[\"bob\"] = [\"anuj\", \"peggy\"]\n",
    "graph[\"alice\"] = [\"peggy\"]\n",
    "graph[\"claire\"] = [\"thom\", \"jonny\"]\n",
    "graph[\"anuj\"] = []\n",
    "graph[\"peggy\"] = []\n",
    "graph[\"thom\"] = []\n",
    "graph[\"jonny\"] = []\n",
    "\n",
    "## Question: does it matter what order you add the key/value pairs in? Does it matter if you write:\n",
    "## graph[\"anuj\"] = []\n",
    "## graph[\"claire\"] = [\"thom\", \"jonny\"]\n",
    "## instead of\n",
    "## graph[\"claire\"] = [\"thom\", \"jonny\"]\n",
    "## graph[\"anuj\"] = []\n",
    "## ?\n",
    "## Answer: it does not matter. Hash tables have no ordering, so it does not matter what order you add key/value pairs in."
   ]
  },
  {
   "cell_type": "code",
   "execution_count": 3,
   "metadata": {},
   "outputs": [
    {
     "ename": "SyntaxError",
     "evalue": "'return' outside function (<ipython-input-3-faba0212ebe8>, line 12)",
     "output_type": "error",
     "traceback": [
      "\u001b[1;36m  File \u001b[1;32m\"<ipython-input-3-faba0212ebe8>\"\u001b[1;36m, line \u001b[1;32m12\u001b[0m\n\u001b[1;33m    return True\u001b[0m\n\u001b[1;37m    ^\u001b[0m\n\u001b[1;31mSyntaxError\u001b[0m\u001b[1;31m:\u001b[0m 'return' outside function\n"
     ]
    }
   ],
   "source": [
    "## Imlementing the algorithm\n",
    "## use the doubel-ended queue (deque) function to make a queue to start\n",
    "\n",
    "from collections import deque\n",
    "search_queue = deque()  # create a new queue\n",
    "search_queue += graph[\"you\"]  # add all of your neighbors to the search queue\n",
    "\n",
    "while search_queue:  # while the queue is not empty\n",
    "    person = search_queue.popleft()  # grabs the first person off the queue\n",
    "    if person_is_seller(person):  # check whether the person is a mango seller\n",
    "        print(person + \" is a mango seller!\") \n",
    "        return True\n",
    "    else:\n",
    "        search_queue += graph[person]  # if the person is not what you want to find, add all his/her friends to the search queue.\n",
    "    return False  # if nothing found, there is no one being a mango seller\n",
    "\n",
    "def person_is_seller(name):  # a function to tell whether a person is a mango seller or not \n",
    "    return name[-1] == 'm'  # based on the last letter in his/her name, is_a_mango_seller is that letter is 'm'!\n"
   ]
  },
  {
   "cell_type": "code",
   "execution_count": 6,
   "metadata": {},
   "outputs": [],
   "source": [
    "def person_is_seller(name):  # a function to tell whether a person is a mango seller or not \n",
    "    return name[-1] == 'm'  # based on the last letter in his/her name, is_a_mango_seller is that letter is 'm'!"
   ]
  },
  {
   "cell_type": "code",
   "execution_count": 7,
   "metadata": {},
   "outputs": [],
   "source": [
    "## the above code would run into an infinite loop if started\n",
    "## we have to check a person if he/she was checked before calling the function to see if he/she has been searched\n",
    "\n",
    "def search(name):\n",
    "    search_queue = deque()  # create a new queue\n",
    "    search_queue += graph[\"you\"]  # add all of your neighbors to the search queue\n",
    "    searched = []  # use this array to keep track of which people you have searched before\n",
    "    while search_queue:  # while the queue is not empty\n",
    "        person = search_queue.popleft()  # grabs the first person off the queue\n",
    "        if not person in searched:  # Only search this person if you have not already searched he/she\n",
    "            if person_is_seller(person):  # check whether the person is a mango seller\n",
    "                print(person + \" is a mango seller!\") \n",
    "                return True\n",
    "            else:\n",
    "                search_queue += graph[person]  \n",
    "                searched.append(person)  # Mark this person as searched\n",
    "    return False  # if nothing found, there is no one being a mango seller"
   ]
  },
  {
   "cell_type": "code",
   "execution_count": 8,
   "metadata": {},
   "outputs": [
    {
     "name": "stdout",
     "output_type": "stream",
     "text": [
      "thom is a mango seller!\n"
     ]
    },
    {
     "data": {
      "text/plain": [
       "True"
      ]
     },
     "execution_count": 8,
     "metadata": {},
     "output_type": "execute_result"
    }
   ],
   "source": [
    "search(\"you\")"
   ]
  },
  {
   "cell_type": "markdown",
   "metadata": {},
   "source": [
    "### Running time\n",
    "\n",
    "**O(V+E)**, V for number of vertices, E for number of edges."
   ]
  },
  {
   "cell_type": "markdown",
   "metadata": {},
   "source": [
    "### Topological sort\n",
    "\n",
    "If task A depends on task B, task A shows up later in the list. This is called a **topological sort**, and it is a way to make an ordered list out of a graph. \n",
    "\n",
    "**It is also a way of thinking.** \n",
    "\n",
    "When you have too many things to do but you do not know where to start and which one should come first, you you topologically sort the graph and get a list of tasks to do, in order."
   ]
  },
  {
   "cell_type": "markdown",
   "metadata": {},
   "source": [
    "### Tree\n",
    "\n",
    "A tree is a special type of graph, where no edges ever point back."
   ]
  },
  {
   "cell_type": "code",
   "execution_count": null,
   "metadata": {},
   "outputs": [],
   "source": []
  }
 ],
 "metadata": {
  "kernelspec": {
   "display_name": "Python 3",
   "language": "python",
   "name": "python3"
  },
  "language_info": {
   "codemirror_mode": {
    "name": "ipython",
    "version": 3
   },
   "file_extension": ".py",
   "mimetype": "text/x-python",
   "name": "python",
   "nbconvert_exporter": "python",
   "pygments_lexer": "ipython3",
   "version": "3.6.5"
  }
 },
 "nbformat": 4,
 "nbformat_minor": 2
}
