{
 "cells": [
  {
   "cell_type": "markdown",
   "metadata": {},
   "source": [
    "** Given an array of integers A sorted in non-decreasing order, return an array of the squares of each number, also in sorted non-decreasing order. **"
   ]
  },
  {
   "cell_type": "markdown",
   "metadata": {},
   "source": [
    "** Example 1:**  \n",
    "Input: [-4,-1,0,3,10]  \n",
    "Output: [0,1,9,16,100]  \n",
    "    \n",
    "** Example 2:**  \n",
    "Input: [-7,-3,2,3,11]  \n",
    "Output: [4,9,9,49,121]  \n",
    "    \n",
    "** Note:**  \n",
    "1 <= A.length <= 10000  \n",
    "-10000 <= A[i] <= 10000  \n",
    "A is sorted in non-decreasing order."
   ]
  },
  {
   "cell_type": "code",
   "execution_count": 12,
   "metadata": {},
   "outputs": [],
   "source": [
    "class Solution:\n",
    "    def sortedSquares(self, A):\n",
    "        \"\"\"\n",
    "        :type A: List[int]\n",
    "        :rtype: List[int]\n",
    "        \"\"\"\n",
    "        ## use two pointers to direct the right (non-negative) and left (negative)\n",
    "        ## compare the absolute values of the right and the left element, add the squre of the smaller number to a new list\n",
    "        r = 0\n",
    "        l = 0\n",
    "        list_B = []\n",
    "        for i in A:\n",
    "            if i < 0:\n",
    "                r += 1\n",
    "        l = r -1\n",
    "        if r == 0:\n",
    "            return [x**2 for x in A]\n",
    "        if r == len(A):\n",
    "            return [x**2 for x in A[::-1]]\n",
    "        else:\n",
    "            for i in range(len(A)):\n",
    "                if abs(A[r]) >= abs(A[l]):\n",
    "                    list_B.append(A[l]**2)\n",
    "                    l -= 1\n",
    "                    if l < 0:\n",
    "                        l = len(A) - 1\n",
    "                else:\n",
    "                    list_B.append(A[r]**2)\n",
    "                    r += 1\n",
    "                    if r == len(A):\n",
    "                        r = 0\n",
    "            return list_B"
   ]
  },
  {
   "cell_type": "code",
   "execution_count": 13,
   "metadata": {},
   "outputs": [
    {
     "name": "stdout",
     "output_type": "stream",
     "text": [
      "[0, 1, 9, 16, 100]\n"
     ]
    }
   ],
   "source": [
    "s = Solution()\n",
    "print(s.sortedSquares([-4,-1,0,3,10]))"
   ]
  },
  {
   "cell_type": "code",
   "execution_count": 14,
   "metadata": {},
   "outputs": [],
   "source": [
    "def sortedSquares(A):\n",
    "        \"\"\"\n",
    "        :type A: List[int]\n",
    "        :rtype: List[int]\n",
    "        \"\"\"\n",
    "        ## use two pointers to direct the right (non-negative) and left (negative)\n",
    "        ## compare the absolute values of the right and the left element, add the squre of the smaller number to a new list\n",
    "        r = 0\n",
    "        l = 0\n",
    "        list_B = []\n",
    "        for i in A:\n",
    "            if i < 0:\n",
    "                r += 1\n",
    "        l = r -1\n",
    "        if r == 0:\n",
    "            return [x**2 for x in A]\n",
    "        if r == len(A):\n",
    "            return [x**2 for x in A[::-1]]\n",
    "        else:\n",
    "            for i in range(len(A)):\n",
    "                if abs(A[r]) >= abs(A[l]):\n",
    "                    list_B.append(A[l]**2)\n",
    "                    l -= 1\n",
    "                    if l < 0:\n",
    "                        l = len(A) - 1\n",
    "                else:\n",
    "                    list_B.append(A[r]**2)\n",
    "                    r += 1\n",
    "                    if r == len(A):\n",
    "                        r = 0\n",
    "            return list_B"
   ]
  },
  {
   "cell_type": "code",
   "execution_count": 15,
   "metadata": {},
   "outputs": [
    {
     "name": "stdout",
     "output_type": "stream",
     "text": [
      "[0, 1, 9, 16, 100]\n"
     ]
    }
   ],
   "source": [
    "A = [-4,-1,0,3,10]\n",
    "print(sortedSquares(A))"
   ]
  },
  {
   "cell_type": "code",
   "execution_count": 16,
   "metadata": {},
   "outputs": [
    {
     "name": "stdout",
     "output_type": "stream",
     "text": [
      "[0, 9, 16, 25]\n"
     ]
    }
   ],
   "source": [
    "A = [-5,-4,-3,0]\n",
    "print(sortedSquares(A))"
   ]
  },
  {
   "cell_type": "code",
   "execution_count": 17,
   "metadata": {},
   "outputs": [
    {
     "name": "stdout",
     "output_type": "stream",
     "text": [
      "[1, 4, 9, 16, 25]\n"
     ]
    }
   ],
   "source": [
    "A = [1,2,3,4,5]\n",
    "print(sortedSquares(A))"
   ]
  },
  {
   "cell_type": "code",
   "execution_count": 18,
   "metadata": {},
   "outputs": [
    {
     "name": "stdout",
     "output_type": "stream",
     "text": [
      "[0]\n"
     ]
    }
   ],
   "source": [
    "A = [0]\n",
    "print(sortedSquares(A))"
   ]
  },
  {
   "cell_type": "code",
   "execution_count": 19,
   "metadata": {},
   "outputs": [
    {
     "name": "stdout",
     "output_type": "stream",
     "text": [
      "[]\n"
     ]
    }
   ],
   "source": [
    "A = []\n",
    "print(sortedSquares(A))"
   ]
  },
  {
   "cell_type": "code",
   "execution_count": 20,
   "metadata": {},
   "outputs": [
    {
     "name": "stdout",
     "output_type": "stream",
     "text": [
      "[0, 1, 9, 100, 121]\n"
     ]
    }
   ],
   "source": [
    "A = [-11,-1,0,3,10]\n",
    "print(sortedSquares(A))"
   ]
  },
  {
   "cell_type": "code",
   "execution_count": 21,
   "metadata": {},
   "outputs": [],
   "source": [
    "## from leetcode user bhargavat\n",
    "## link: https://leetcode.com/problems/squares-of-a-sorted-array/discuss/224318/Python-O(N)-beats-100\n",
    "\n",
    "class Solution:\n",
    "    def sortedSquares(self, A):\n",
    "        if len(A) == 1:\n",
    "            return [A[0]*A[0]]\n",
    "        r = 0\n",
    "        result = []\n",
    "        for i in range(0, len(A)):\n",
    "            if A[i] < 0: #stops at first index before 0 or positive\n",
    "                r += 1\n",
    "        l = r-1\n",
    "\n",
    "        if r == len(A): #when there are no nums >= 0\n",
    "            l -=1\n",
    "            r -=1\n",
    "\n",
    "        for i in range(0, len(A)):\n",
    "            if A[r]*A[r] <= A[l]*A[l]: #right < left\n",
    "                result.append(A[r]*A[r])\n",
    "                r+=1\n",
    "                if r >= len(A):\n",
    "                    r = 0\n",
    "            else:\n",
    "                result.append(A[l]*A[l])\n",
    "                l-=1\n",
    "                if l < 0:\n",
    "                    l = len(A) - 1\n",
    "        return result"
   ]
  },
  {
   "cell_type": "markdown",
   "metadata": {},
   "source": [
    "Description: Use a left and right pointer where right is the index of the first non-negative number and left is the index before it and iteratively add the squared numbers to your result array. If all of them are negative, the algo subtracts right index and left index by 1 because the right index would equal to the array length. If either pointer hits their limit, they are immediately assigned the index value of the opposite end so that the opposite pointer's current location is always containing the lesser value and thus allows that pointer to continue on."
   ]
  },
  {
   "cell_type": "code",
   "execution_count": 22,
   "metadata": {},
   "outputs": [],
   "source": [
    "## from leetcode user sunyanfred\n",
    "## link: https://leetcode.com/problems/squares-of-a-sorted-array/discuss/224014/Python-100\n",
    "\n",
    "class Solution(object):\n",
    "    def sortedSquares(self, A):\n",
    "        \"\"\"\n",
    "        :type A: List[int]\n",
    "        :rtype: List[int]\n",
    "        \"\"\"\n",
    "        if not A: return\n",
    "        a, b = 0, len(A)-1\n",
    "        ans = []\n",
    "        while a <= b:\n",
    "            x1, x2 = abs(A[a]), abs(A[b])\n",
    "            if x1 < x2:\n",
    "                ans.append(x2**2)\n",
    "                b -= 1\n",
    "            else:\n",
    "                ans.append(x1**2)\n",
    "                a += 1\n",
    "        return ans[::-1]"
   ]
  },
  {
   "cell_type": "code",
   "execution_count": null,
   "metadata": {},
   "outputs": [],
   "source": []
  }
 ],
 "metadata": {
  "kernelspec": {
   "display_name": "Python 3",
   "language": "python",
   "name": "python3"
  },
  "language_info": {
   "codemirror_mode": {
    "name": "ipython",
    "version": 3
   },
   "file_extension": ".py",
   "mimetype": "text/x-python",
   "name": "python",
   "nbconvert_exporter": "python",
   "pygments_lexer": "ipython3",
   "version": "3.6.5"
  }
 },
 "nbformat": 4,
 "nbformat_minor": 2
}
